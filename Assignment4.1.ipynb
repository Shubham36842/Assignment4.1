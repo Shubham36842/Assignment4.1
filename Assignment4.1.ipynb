{
 "cells": [
  {
   "cell_type": "raw",
   "id": "c432aa11-fd35-4772-971f-97143d077921",
   "metadata": {},
   "source": [
    "Q1. Create a vehicle class with an init method having instance variables as name_of_vehicle, max_speed and average_of_vehicle. "
   ]
  },
  {
   "cell_type": "code",
   "execution_count": 7,
   "id": "466812cd-ee9d-4db6-89be-732ec3998588",
   "metadata": {},
   "outputs": [],
   "source": [
    "class vehicle:\n",
    "    def __init__(self,name_of_vehicle,max_speed,average_of_vehicle):\n",
    "        self.name_of_vehicle=name_of_vehicle\n",
    "        self.max_speed=max_speed\n",
    "        self.average_of_vehicle=average_of_vehicle\n",
    "    def display(self):\n",
    "        print(self.name_of_vehicle)\n",
    "        print(self.max_speed,\"kmph\")\n",
    "        print(self.average_of_vehicle,\"kmph\")"
   ]
  },
  {
   "cell_type": "code",
   "execution_count": 8,
   "id": "bdd40fba-c00c-475f-8887-7fef684e3964",
   "metadata": {},
   "outputs": [
    {
     "name": "stdout",
     "output_type": "stream",
     "text": [
      "toyota\n",
      "120 kmph\n",
      "30 kmph\n"
     ]
    }
   ],
   "source": [
    "car=vehicle(\"toyota\",120,30)\n",
    "car.display()"
   ]
  },
  {
   "cell_type": "raw",
   "id": "811b4e77-3add-4ff1-ba85-e2ba50381355",
   "metadata": {},
   "source": [
    "Q2. Create a child class car from the vehicle class created in Que 1, which will inherit the vehicle class.Create a method named seating_capacity which takes capacity as an argument and returns the name of the vehicle and its seating capacity.\n"
   ]
  },
  {
   "cell_type": "code",
   "execution_count": 15,
   "id": "fb19df63-3741-46c5-af56-ce33eeb223db",
   "metadata": {},
   "outputs": [],
   "source": [
    "class vehicle:\n",
    "    def __init__(self,name_of_vehicle,max_speed,average_of_vehicle):\n",
    "        self.name_of_vehicle=name_of_vehicle\n",
    "        self.max_speed=max_speed\n",
    "        self.average_of_vehicle=average_of_vehicle\n",
    "    def display(self):\n",
    "        print(self.name_of_vehicle)\n",
    "        print(self.max_speed,\"kmph\")\n",
    "        print(self.average_of_vehicle,\"kmph\")"
   ]
  },
  {
   "cell_type": "code",
   "execution_count": 11,
   "id": "9a05d64d-a890-4cf5-9785-30ad204f04c7",
   "metadata": {},
   "outputs": [],
   "source": [
    "class car(vehicle):\n",
    "    def seating_capacity(self,capacity):\n",
    "        self.capacity=capacity\n",
    "        return self.name_of_vehicle,self.capacity"
   ]
  },
  {
   "cell_type": "code",
   "execution_count": 14,
   "id": "0d96f511-af24-4a9f-a8b1-95ff3772dd48",
   "metadata": {},
   "outputs": [
    {
     "data": {
      "text/plain": [
       "('toyota', 10)"
      ]
     },
     "execution_count": 14,
     "metadata": {},
     "output_type": "execute_result"
    }
   ],
   "source": [
    "car1=car(\"toyota\",120,30)\n",
    "car1.seating_capacity(10)"
   ]
  },
  {
   "cell_type": "raw",
   "id": "472bae0e-875f-463a-baca-48e65cee2a83",
   "metadata": {},
   "source": [
    "Q3. What is multiple inheritance? Write a python code to demonstrate multiple inheritance."
   ]
  },
  {
   "cell_type": "raw",
   "id": "6bcf61d3-d6d6-41cc-bd83-c87144297e52",
   "metadata": {},
   "source": [
    "Ans: Multiple inheritance is a object oriented programming concept in which a single child        class inherit the properties of more than one parent class and add its own some              properties."
   ]
  },
  {
   "cell_type": "code",
   "execution_count": 16,
   "id": "40f512ed-4a07-402a-a191-c49e8f8e69b5",
   "metadata": {},
   "outputs": [
    {
     "name": "stdout",
     "output_type": "stream",
     "text": [
      "this is my car\n",
      "Model of my car is tata 2023\n",
      "price of my car is more than 10 lakh\n",
      "I have total 3 car\n"
     ]
    }
   ],
   "source": [
    "class Car:\n",
    "    print(\"this is my car\")\n",
    "class car_model:\n",
    "    print(\"Model of my car is tata 2023\")\n",
    "class car_price:\n",
    "    print(\"price of my car is more than 10 lakh\")\n",
    "class car_detail(car,car_model,car_price):\n",
    "    print(\"I have total 3 car\")"
   ]
  },
  {
   "cell_type": "raw",
   "id": "d208487e-ba7d-4ec4-a08e-1d4959bc1b66",
   "metadata": {},
   "source": [
    "Q4. What are getter and setter in python? Create a class and create a getter and a setter method in this class."
   ]
  },
  {
   "cell_type": "raw",
   "id": "b375815b-51c4-42bb-bc80-6741d7d7d53d",
   "metadata": {},
   "source": [
    "Ans:We use getters & setters to add validation logic around getting and setting a value.these are used to avoid direct access of a class field i.e. private variables cannot be accessed directly or modified by external user.Python @property is one of the built-in decorators. The main purpose of any decorator is to change your class methods or attributes in such a way so that the user of your class no need to make any change in their code."
   ]
  },
  {
   "cell_type": "code",
   "execution_count": 22,
   "id": "fedf8980-2857-4efe-8d8a-3cc3701dd1a1",
   "metadata": {},
   "outputs": [],
   "source": [
    "class account:\n",
    "    def __init__(self):\n",
    "        self._balance=1000\n",
    "    @property\n",
    "    def get_balance(self):\n",
    "        return self._balance\n",
    "    @get_balance.setter\n",
    "    def update_balance(self,amount):\n",
    "        self._balance=self._balance+amount"
   ]
  },
  {
   "cell_type": "code",
   "execution_count": 27,
   "id": "ca693cf2-72ed-409e-afc4-146eee3a6163",
   "metadata": {},
   "outputs": [
    {
     "data": {
      "text/plain": [
       "4000"
      ]
     },
     "execution_count": 27,
     "metadata": {},
     "output_type": "execute_result"
    }
   ],
   "source": [
    "my=account()\n",
    "my.get_balance\n",
    "my.update_balance=3000\n",
    "my.get_balance"
   ]
  },
  {
   "cell_type": "raw",
   "id": "197f32a6-fba2-4298-9b1c-fa14d52dd1f0",
   "metadata": {},
   "source": [
    "Q5.What is method overriding in python? Write a python code to demonstrate method overriding."
   ]
  },
  {
   "cell_type": "raw",
   "id": "c3efbb64-0bd9-482f-8d38-4137667227d2",
   "metadata": {},
   "source": [
    "Ans:Two or more methods have the same name but different numbers of parameters or different types of parameters, or both. These methods are called overloaded methods and this is called method overloading. "
   ]
  },
  {
   "cell_type": "code",
   "execution_count": 37,
   "id": "0dfbcfd8-5c76-4adc-b378-83a9c37704e6",
   "metadata": {},
   "outputs": [
    {
     "name": "stdout",
     "output_type": "stream",
     "text": [
      "11\n",
      "ShubhamKushwaha\n"
     ]
    }
   ],
   "source": [
    "# Function to take multiple arguments\n",
    "def add(datatype, *args):\n",
    "\n",
    "\t# if datatype is int\n",
    "\t# initialize answer as 0\n",
    "\tif datatype == 'int':\n",
    "\t\tanswer = 0\n",
    "\n",
    "\t# if datatype is str\n",
    "\t# initialize answer as ''\n",
    "\tif datatype == 'str':\n",
    "\t\tanswer = ''\n",
    "\n",
    "\t# Traverse through the arguments\n",
    "\tfor x in args:\n",
    "\n",
    "\t\t# This will do addition if the\n",
    "\t\t# arguments are int. Or concatenation\n",
    "\t\t# if the arguments are str\n",
    "\t\tanswer = answer + x\n",
    "\n",
    "\tprint(answer)\n",
    "\n",
    "\n",
    "# Integer\n",
    "add('int', 5, 6)\n",
    "\n",
    "# String\n",
    "add('str','Shubham','Kushwaha')\n"
   ]
  },
  {
   "cell_type": "code",
   "execution_count": null,
   "id": "443e014b-f8b0-4912-8215-c29819592aa8",
   "metadata": {},
   "outputs": [],
   "source": []
  }
 ],
 "metadata": {
  "kernelspec": {
   "display_name": "Python 3 (ipykernel)",
   "language": "python",
   "name": "python3"
  },
  "language_info": {
   "codemirror_mode": {
    "name": "ipython",
    "version": 3
   },
   "file_extension": ".py",
   "mimetype": "text/x-python",
   "name": "python",
   "nbconvert_exporter": "python",
   "pygments_lexer": "ipython3",
   "version": "3.10.8"
  }
 },
 "nbformat": 4,
 "nbformat_minor": 5
}
